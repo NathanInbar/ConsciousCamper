{
 "cells": [
  {
   "cell_type": "code",
   "execution_count": 1,
   "metadata": {},
   "outputs": [
    {
     "name": "stdout",
     "output_type": "stream",
     "text": [
      "loaded modules...\n"
     ]
    }
   ],
   "source": [
    "import numpy as np\n",
    "import pandas as pd\n",
    "print('loaded modules...')"
   ]
  },
  {
   "cell_type": "code",
   "execution_count": 2,
   "metadata": {},
   "outputs": [],
   "source": [
    "campsites_data = pd.read_csv('campsites.csv')"
   ]
  },
  {
   "cell_type": "code",
   "execution_count": 3,
   "metadata": {
    "scrolled": true
   },
   "outputs": [
    {
     "data": {
      "text/html": [
       "<div>\n",
       "<style scoped>\n",
       "    .dataframe tbody tr th:only-of-type {\n",
       "        vertical-align: middle;\n",
       "    }\n",
       "\n",
       "    .dataframe tbody tr th {\n",
       "        vertical-align: top;\n",
       "    }\n",
       "\n",
       "    .dataframe thead th {\n",
       "        text-align: right;\n",
       "    }\n",
       "</style>\n",
       "<table border=\"1\" class=\"dataframe\">\n",
       "  <thead>\n",
       "    <tr style=\"text-align: right;\">\n",
       "      <th></th>\n",
       "      <th>Location</th>\n",
       "      <th>CamperScore</th>\n",
       "      <th>Elevation</th>\n",
       "      <th>WindV</th>\n",
       "      <th>TempL</th>\n",
       "      <th>TempH</th>\n",
       "      <th>Precip</th>\n",
       "      <th>Pollen</th>\n",
       "      <th>AQI</th>\n",
       "      <th>UV</th>\n",
       "      <th>Humidity</th>\n",
       "      <th>Sunrise</th>\n",
       "      <th>Sunset</th>\n",
       "    </tr>\n",
       "  </thead>\n",
       "  <tbody>\n",
       "    <tr>\n",
       "      <th>0</th>\n",
       "      <td>Hemet</td>\n",
       "      <td>92</td>\n",
       "      <td>1608</td>\n",
       "      <td>0</td>\n",
       "      <td>41</td>\n",
       "      <td>78</td>\n",
       "      <td>0</td>\n",
       "      <td>4</td>\n",
       "      <td>52</td>\n",
       "      <td>8</td>\n",
       "      <td>49</td>\n",
       "      <td>644</td>\n",
       "      <td>1905</td>\n",
       "    </tr>\n",
       "    <tr>\n",
       "      <th>1</th>\n",
       "      <td>Azusa</td>\n",
       "      <td>76</td>\n",
       "      <td>686</td>\n",
       "      <td>2</td>\n",
       "      <td>50</td>\n",
       "      <td>80</td>\n",
       "      <td>0</td>\n",
       "      <td>3</td>\n",
       "      <td>45</td>\n",
       "      <td>8</td>\n",
       "      <td>44</td>\n",
       "      <td>647</td>\n",
       "      <td>1908</td>\n",
       "    </tr>\n",
       "    <tr>\n",
       "      <th>2</th>\n",
       "      <td>Sierra Madre</td>\n",
       "      <td>84</td>\n",
       "      <td>781</td>\n",
       "      <td>0</td>\n",
       "      <td>50</td>\n",
       "      <td>79</td>\n",
       "      <td>0</td>\n",
       "      <td>3</td>\n",
       "      <td>40</td>\n",
       "      <td>8</td>\n",
       "      <td>44</td>\n",
       "      <td>648</td>\n",
       "      <td>1909</td>\n",
       "    </tr>\n",
       "    <tr>\n",
       "      <th>3</th>\n",
       "      <td>Wrightwood</td>\n",
       "      <td>94</td>\n",
       "      <td>5996</td>\n",
       "      <td>1</td>\n",
       "      <td>31</td>\n",
       "      <td>57</td>\n",
       "      <td>0</td>\n",
       "      <td>0</td>\n",
       "      <td>35</td>\n",
       "      <td>8</td>\n",
       "      <td>25</td>\n",
       "      <td>646</td>\n",
       "      <td>1907</td>\n",
       "    </tr>\n",
       "    <tr>\n",
       "      <th>4</th>\n",
       "      <td>Halchite</td>\n",
       "      <td>97</td>\n",
       "      <td>4380</td>\n",
       "      <td>0</td>\n",
       "      <td>32</td>\n",
       "      <td>62</td>\n",
       "      <td>0</td>\n",
       "      <td>0</td>\n",
       "      <td>51</td>\n",
       "      <td>7</td>\n",
       "      <td>58</td>\n",
       "      <td>714</td>\n",
       "      <td>1937</td>\n",
       "    </tr>\n",
       "  </tbody>\n",
       "</table>\n",
       "</div>"
      ],
      "text/plain": [
       "       Location  CamperScore  Elevation  WindV  TempL  TempH  Precip  Pollen  \\\n",
       "0         Hemet           92       1608      0     41     78       0       4   \n",
       "1         Azusa           76        686      2     50     80       0       3   \n",
       "2  Sierra Madre           84        781      0     50     79       0       3   \n",
       "3    Wrightwood           94       5996      1     31     57       0       0   \n",
       "4      Halchite           97       4380      0     32     62       0       0   \n",
       "\n",
       "   AQI  UV  Humidity  Sunrise  Sunset  \n",
       "0   52   8        49      644    1905  \n",
       "1   45   8        44      647    1908  \n",
       "2   40   8        44      648    1909  \n",
       "3   35   8        25      646    1907  \n",
       "4   51   7        58      714    1937  "
      ]
     },
     "execution_count": 3,
     "metadata": {},
     "output_type": "execute_result"
    }
   ],
   "source": [
    "campsites_data.head()"
   ]
  },
  {
   "cell_type": "code",
   "execution_count": 4,
   "metadata": {},
   "outputs": [],
   "source": [
    "from sklearn.model_selection import train_test_split\n",
    "campsites_data = campsites_data.drop('Location', axis=1) # drop location on training data (reunite later)\n",
    "X = campsites_data.drop('CamperScore', axis=1) # detagging data\n",
    "Y = campsites_data.CamperScore # tags\n",
    "# print('non-tagged: \\n', X)\n",
    "# print('tagged: \\n', Y)"
   ]
  },
  {
   "cell_type": "code",
   "execution_count": 5,
   "metadata": {},
   "outputs": [],
   "source": [
    "X_train, X_test, Y_train, Y_test = train_test_split(X, Y, test_size=0.1)\n",
    "# print(X_train)\n",
    "# print(Y_train)"
   ]
  },
  {
   "cell_type": "code",
   "execution_count": 6,
   "metadata": {},
   "outputs": [
    {
     "data": {
      "text/plain": [
       "RandomForestRegressor(n_estimators=1000)"
      ]
     },
     "execution_count": 6,
     "metadata": {},
     "output_type": "execute_result"
    }
   ],
   "source": [
    "from sklearn.ensemble import RandomForestRegressor\n",
    "\n",
    "rf = RandomForestRegressor(n_estimators = 1000)\n",
    "\n",
    "rf.fit(X_train, Y_train)"
   ]
  },
  {
   "cell_type": "code",
   "execution_count": 7,
   "metadata": {},
   "outputs": [
    {
     "name": "stdout",
     "output_type": "stream",
     "text": [
      "56\n"
     ]
    }
   ],
   "source": [
    "test_loc = {'Elevation': [491], 'WindV': [100], 'TempL': [3], 'TempH': [55], 'Precip': [0], 'Pollen': [5],\n",
    "           'AQI': [0], 'UV': [0], 'Humidity': [39], 'Sunrise': [652], 'Sunset': [2044]}\n",
    "df = pd.DataFrame(data=test_loc)\n",
    "Y_pred = rf.predict(df)\n",
    "print(int(Y_pred))"
   ]
  },
  {
   "cell_type": "code",
   "execution_count": 8,
   "metadata": {},
   "outputs": [
    {
     "data": {
      "text/plain": [
       "['campsites_model.joblib']"
      ]
     },
     "execution_count": 8,
     "metadata": {},
     "output_type": "execute_result"
    }
   ],
   "source": [
    "from joblib import dump, load\n",
    "dump(rf, 'campsites_model.joblib')"
   ]
  },
  {
   "cell_type": "code",
   "execution_count": null,
   "metadata": {},
   "outputs": [],
   "source": []
  },
  {
   "cell_type": "code",
   "execution_count": null,
   "metadata": {},
   "outputs": [],
   "source": []
  }
 ],
 "metadata": {
  "kernelspec": {
   "display_name": "Python 3",
   "language": "python",
   "name": "python3"
  },
  "language_info": {
   "codemirror_mode": {
    "name": "ipython",
    "version": 3
   },
   "file_extension": ".py",
   "mimetype": "text/x-python",
   "name": "python",
   "nbconvert_exporter": "python",
   "pygments_lexer": "ipython3",
   "version": "3.8.5"
  }
 },
 "nbformat": 4,
 "nbformat_minor": 5
}
